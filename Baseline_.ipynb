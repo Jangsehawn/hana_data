{
 "cells": [
  {
   "cell_type": "markdown",
   "metadata": {},
   "source": [
    "\n",
    "\n",
    "####  그래프 구성\n",
    "- 노드 : 뉴스기사 \n",
    "- 엣지 : claim 칼럼으로 4개의 토픽 분류 후, 같은 토픽끼리 엣지로 연결\n",
    "\n",
    "#### 피쳐\n",
    "- claim (문서 임베딩 100차원)\n",
    "- youtube0 (문서 임베딩 100차원)\n",
    "- claim 길이, 주관값, 감성값 \n",
    "\n",
    "\n",
    "#### 알고리즘\n",
    "- GraphSAGE (https://arxiv.org/abs/1706.02216 )"
   ]
  },
  {
   "cell_type": "code",
   "execution_count": null,
   "metadata": {},
   "outputs": [],
   "source": []
  },
  {
   "cell_type": "code",
   "execution_count": null,
   "metadata": {},
   "outputs": [],
   "source": []
  },
  {
   "cell_type": "markdown",
   "metadata": {},
   "source": [
    "- 데이터 불러오기"
   ]
  },
  {
   "cell_type": "code",
   "execution_count": 1,
   "metadata": {
    "ExecuteTime": {
     "end_time": "2022-11-13T06:19:41.715121Z",
     "start_time": "2022-11-13T06:19:41.698148Z"
    }
   },
   "outputs": [],
   "source": [
    "import pandas as pd"
   ]
  },
  {
   "cell_type": "code",
   "execution_count": 2,
   "metadata": {
    "ExecuteTime": {
     "end_time": "2022-11-13T06:19:42.512622Z",
     "start_time": "2022-11-13T06:19:42.249032Z"
    }
   },
   "outputs": [],
   "source": [
    "train = pd.read_csv('train.csv')"
   ]
  },
  {
   "cell_type": "code",
   "execution_count": 3,
   "metadata": {
    "ExecuteTime": {
     "end_time": "2022-11-13T06:19:44.891921Z",
     "start_time": "2022-11-13T06:19:44.752768Z"
    }
   },
   "outputs": [],
   "source": [
    "test = pd.read_csv('test.csv')"
   ]
  },
  {
   "cell_type": "code",
   "execution_count": 4,
   "metadata": {
    "ExecuteTime": {
     "end_time": "2022-11-13T06:19:45.345070Z",
     "start_time": "2022-11-13T06:19:45.310581Z"
    }
   },
   "outputs": [
    {
     "data": {
      "text/plain": [
       "((5277, 16), (1856, 15))"
      ]
     },
     "execution_count": 4,
     "metadata": {},
     "output_type": "execute_result"
    }
   ],
   "source": [
    "train.shape, test.shape"
   ]
  },
  {
   "cell_type": "code",
   "execution_count": 5,
   "metadata": {
    "ExecuteTime": {
     "end_time": "2022-11-13T06:19:46.021790Z",
     "start_time": "2022-11-13T06:19:46.015785Z"
    }
   },
   "outputs": [],
   "source": [
    "test['label'] = np.nan"
   ]
  },
  {
   "cell_type": "code",
   "execution_count": 6,
   "metadata": {
    "ExecuteTime": {
     "end_time": "2022-11-13T06:19:46.803097Z",
     "start_time": "2022-11-13T06:19:46.684020Z"
    }
   },
   "outputs": [],
   "source": [
    "# train id 와 구분하기위해 5277 더해줌\n",
    "test['id'] = test['id'] + 5277"
   ]
  },
  {
   "cell_type": "code",
   "execution_count": 7,
   "metadata": {
    "ExecuteTime": {
     "end_time": "2022-11-13T06:19:47.392645Z",
     "start_time": "2022-11-13T06:19:47.316849Z"
    }
   },
   "outputs": [],
   "source": [
    "df =pd.concat( [ train, test ], axis = 0).reset_index(drop = True)"
   ]
  },
  {
   "cell_type": "markdown",
   "metadata": {},
   "source": [
    "- claim 기준 같은 주제끼리 엣지로 연결하기\n",
    "- topic modeling 활용"
   ]
  },
  {
   "cell_type": "code",
   "execution_count": 18,
   "metadata": {
    "ExecuteTime": {
     "end_time": "2022-11-13T06:25:36.207392Z",
     "start_time": "2022-11-13T06:25:36.176739Z"
    }
   },
   "outputs": [
    {
     "name": "stderr",
     "output_type": "stream",
     "text": [
      "[nltk_data] Downloading package wordnet to\n",
      "[nltk_data]     C:\\Users\\likeo\\AppData\\Roaming\\nltk_data...\n",
      "[nltk_data]   Package wordnet is already up-to-date!\n"
     ]
    }
   ],
   "source": [
    "import gensim\n",
    "from gensim.utils import simple_preprocess\n",
    "from gensim.parsing.preprocessing import STOPWORDS\n",
    "from nltk.stem import WordNetLemmatizer, SnowballStemmer\n",
    "\n",
    "from nltk.stem.porter import *\n",
    "import numpy as np\n",
    "np.random.seed(2018)\n",
    "import nltk\n",
    "nltk.download('wordnet')\n",
    "stemmer = SnowballStemmer('english')\n"
   ]
  },
  {
   "cell_type": "code",
   "execution_count": 19,
   "metadata": {
    "ExecuteTime": {
     "end_time": "2022-11-13T06:25:37.749712Z",
     "start_time": "2022-11-13T06:25:37.723514Z"
    }
   },
   "outputs": [],
   "source": [
    "def lemmatize_stemming(text):\n",
    "    return stemmer.stem(WordNetLemmatizer().lemmatize(text, pos='v'))\n",
    "\n",
    "def preprocess(text):\n",
    "    result = []\n",
    "    for token in gensim.utils.simple_preprocess(text):\n",
    "        if token not in gensim.parsing.preprocessing.STOPWORDS and len(token) > 3:\n",
    "            result.append(lemmatize_stemming(token))\n",
    "    return result"
   ]
  },
  {
   "cell_type": "code",
   "execution_count": 20,
   "metadata": {
    "ExecuteTime": {
     "end_time": "2022-11-13T06:25:38.482616Z",
     "start_time": "2022-11-13T06:25:38.449318Z"
    }
   },
   "outputs": [
    {
     "data": {
      "text/plain": [
       "'Did a Vermont Woman Post a Joke About Trump Bringing Back Slavery ?'"
      ]
     },
     "execution_count": 20,
     "metadata": {},
     "output_type": "execute_result"
    }
   ],
   "source": [
    "doc_sample = df.claim[0]\n",
    "doc_sample"
   ]
  },
  {
   "cell_type": "code",
   "execution_count": 21,
   "metadata": {
    "ExecuteTime": {
     "end_time": "2022-11-13T06:25:40.137463Z",
     "start_time": "2022-11-13T06:25:40.115279Z"
    }
   },
   "outputs": [
    {
     "name": "stdout",
     "output_type": "stream",
     "text": [
      "original document: \n",
      "['Did', 'a', 'Vermont', 'Woman', 'Post', 'a', 'Joke', 'About', 'Trump', 'Bringing', 'Back', 'Slavery', '?']\n",
      "\n",
      "\n",
      " tokenized and lemmatized document: \n",
      "['vermont', 'woman', 'post', 'joke', 'trump', 'bring', 'slaveri']\n"
     ]
    }
   ],
   "source": [
    "print('original document: ')\n",
    "words = []\n",
    "for word in doc_sample.split(' '):\n",
    "    words.append(word)\n",
    "print(words)\n",
    "print('\\n\\n tokenized and lemmatized document: ')\n",
    "print(preprocess(doc_sample))"
   ]
  },
  {
   "cell_type": "code",
   "execution_count": 22,
   "metadata": {
    "ExecuteTime": {
     "end_time": "2022-11-13T06:26:15.868463Z",
     "start_time": "2022-11-13T06:26:14.239099Z"
    }
   },
   "outputs": [],
   "source": [
    "processed_docs = df['claim'].map(preprocess)\n"
   ]
  },
  {
   "cell_type": "code",
   "execution_count": 23,
   "metadata": {
    "ExecuteTime": {
     "end_time": "2022-11-13T06:26:20.427414Z",
     "start_time": "2022-11-13T06:26:20.389906Z"
    }
   },
   "outputs": [
    {
     "data": {
      "text/plain": [
       "0       [vermont, woman, post, joke, trump, bring, sla...\n",
       "1       [basebal, player, photograph, kneel, protest, ...\n",
       "2       [wisconsin, state, john, nygren, hit, dirt, pr...\n",
       "3       [progress, group, accus, senat, splinter, grou...\n",
       "4       [seal, unusu, stripe, pattern, mark, spot, was...\n",
       "                              ...                        \n",
       "7128    [commentari, covid, diari, clinician, choic, s...\n",
       "7129    [facebook, instagram, post, share, thousand, t...\n",
       "7130                  [antiparasit, drug, kill, sar, day]\n",
       "7131    [video, view, thousand, time, facebook, alongs...\n",
       "7132    [whatsapp, messag, circul, south, sudan, claim...\n",
       "Name: claim, Length: 7133, dtype: object"
      ]
     },
     "execution_count": 23,
     "metadata": {},
     "output_type": "execute_result"
    }
   ],
   "source": [
    "processed_docs"
   ]
  },
  {
   "cell_type": "markdown",
   "metadata": {},
   "source": [
    "-  Bag of Words on the Data set\n"
   ]
  },
  {
   "cell_type": "code",
   "execution_count": 24,
   "metadata": {
    "ExecuteTime": {
     "end_time": "2022-11-13T06:27:21.002897Z",
     "start_time": "2022-11-13T06:27:20.693950Z"
    }
   },
   "outputs": [],
   "source": [
    "dictionary = gensim.corpora.Dictionary(processed_docs)\n",
    "\n"
   ]
  },
  {
   "cell_type": "code",
   "execution_count": 25,
   "metadata": {
    "ExecuteTime": {
     "end_time": "2022-11-13T06:27:21.978130Z",
     "start_time": "2022-11-13T06:27:21.946290Z"
    }
   },
   "outputs": [
    {
     "name": "stdout",
     "output_type": "stream",
     "text": [
      "0 bring\n",
      "1 joke\n",
      "2 post\n",
      "3 slaveri\n",
      "4 trump\n",
      "5 vermont\n",
      "6 woman\n",
      "7 basebal\n",
      "8 kneel\n",
      "9 lynch\n",
      "10 photograph\n"
     ]
    }
   ],
   "source": [
    "count = 0\n",
    "for k, v in dictionary.iteritems():\n",
    "    print(k, v)\n",
    "    count += 1\n",
    "    if count > 10:\n",
    "        break"
   ]
  },
  {
   "cell_type": "code",
   "execution_count": 27,
   "metadata": {
    "ExecuteTime": {
     "end_time": "2022-11-13T06:28:46.073101Z",
     "start_time": "2022-11-13T06:28:46.042831Z"
    }
   },
   "outputs": [],
   "source": [
    "dictionary.filter_extremes(no_below=1, no_above=0.8, keep_n=100000)"
   ]
  },
  {
   "cell_type": "code",
   "execution_count": 28,
   "metadata": {
    "ExecuteTime": {
     "end_time": "2022-11-13T06:28:47.420422Z",
     "start_time": "2022-11-13T06:28:47.171975Z"
    }
   },
   "outputs": [
    {
     "data": {
      "text/plain": [
       "[(19, 1),\n",
       " (147, 1),\n",
       " (199, 1),\n",
       " (256, 1),\n",
       " (352, 1),\n",
       " (765, 1),\n",
       " (4048, 1),\n",
       " (5655, 1)]"
      ]
     },
     "execution_count": 28,
     "metadata": {},
     "output_type": "execute_result"
    }
   ],
   "source": [
    "bow_corpus = [dictionary.doc2bow(doc) for doc in processed_docs]\n",
    "bow_corpus[4310]"
   ]
  },
  {
   "cell_type": "code",
   "execution_count": 37,
   "metadata": {
    "ExecuteTime": {
     "end_time": "2022-11-13T06:38:22.295107Z",
     "start_time": "2022-11-13T06:36:47.505865Z"
    }
   },
   "outputs": [],
   "source": [
    "lda_model = gensim.models.LdaMulticore(bow_corpus, num_topics=4, id2word=dictionary, passes=50, workers=50)"
   ]
  },
  {
   "cell_type": "code",
   "execution_count": 38,
   "metadata": {
    "ExecuteTime": {
     "end_time": "2022-11-13T06:39:09.200567Z",
     "start_time": "2022-11-13T06:39:09.176565Z"
    }
   },
   "outputs": [
    {
     "name": "stdout",
     "output_type": "stream",
     "text": [
      "Topic: 0 \n",
      "Words: 0.018*\"say\" + 0.008*\"florida\" + 0.007*\"sander\" + 0.007*\"democrat\" + 0.007*\"claim\" + 0.006*\"care\" + 0.006*\"health\" + 0.006*\"texa\" + 0.006*\"california\" + 0.006*\"right\"\n",
      "Topic: 1 \n",
      "Words: 0.043*\"coronavirus\" + 0.026*\"covid\" + 0.015*\"claim\" + 0.013*\"facebook\" + 0.013*\"video\" + 0.012*\"post\" + 0.011*\"show\" + 0.011*\"time\" + 0.010*\"share\" + 0.009*\"pandem\"\n",
      "Topic: 2 \n",
      "Words: 0.067*\"covid\" + 0.014*\"vaccin\" + 0.009*\"death\" + 0.005*\"state\" + 0.005*\"test\" + 0.005*\"studi\" + 0.005*\"peopl\" + 0.005*\"like\" + 0.005*\"pandem\" + 0.004*\"report\"\n",
      "Topic: 3 \n",
      "Words: 0.054*\"trump\" + 0.027*\"say\" + 0.022*\"donald\" + 0.016*\"clinton\" + 0.013*\"claim\" + 0.011*\"obama\" + 0.011*\"presid\" + 0.010*\"hillari\" + 0.008*\"state\" + 0.007*\"american\"\n"
     ]
    }
   ],
   "source": [
    "for idx, topic in lda_model.print_topics(-1):\n",
    "    print('Topic: {} \\nWords: {}'.format(idx, topic))"
   ]
  },
  {
   "cell_type": "code",
   "execution_count": 40,
   "metadata": {
    "ExecuteTime": {
     "end_time": "2022-11-13T06:47:38.447124Z",
     "start_time": "2022-11-13T06:47:38.411899Z"
    }
   },
   "outputs": [],
   "source": [
    "def make_topictable_per_doc(ldamodel, corpus):\n",
    "    topic_table = pd.DataFrame()\n",
    "\n",
    "    # 몇 번째 문서인지를 의미하는 문서 번호와 해당 문서의 토픽 비중을 한 줄씩 꺼내온다.\n",
    "    for i, topic_list in enumerate(ldamodel[corpus]):\n",
    "        doc = topic_list[0] if ldamodel.per_word_topics else topic_list            \n",
    "        doc = sorted(doc, key=lambda x: (x[1]), reverse=True)\n",
    "        # 각 문서에 대해서 비중이 높은 토픽순으로 토픽을 정렬한다.\n",
    "        # EX) 정렬 전 0번 문서 : (2번 토픽, 48.5%), (8번 토픽, 25%), (10번 토픽, 5%), (12번 토픽, 21.5%), \n",
    "        # Ex) 정렬 후 0번 문서 : (2번 토픽, 48.5%), (8번 토픽, 25%), (12번 토픽, 21.5%), (10번 토픽, 5%)\n",
    "        # 48 > 25 > 21 > 5 순으로 정렬이 된 것.\n",
    "\n",
    "        # 모든 문서에 대해서 각각 아래를 수행\n",
    "        for j, (topic_num, prop_topic) in enumerate(doc): #  몇 번 토픽인지와 비중을 나눠서 저장한다.\n",
    "            if j == 0:  # 정렬을 한 상태이므로 가장 앞에 있는 것이 가장 비중이 높은 토픽\n",
    "                topic_table = topic_table.append(pd.Series([int(topic_num), round(prop_topic,4), topic_list]), ignore_index=True)\n",
    "                # 가장 비중이 높은 토픽과, 가장 비중이 높은 토픽의 비중과, 전체 토픽의 비중을 저장한다.\n",
    "            else:\n",
    "                break\n",
    "    return(topic_table)"
   ]
  },
  {
   "cell_type": "code",
   "execution_count": 42,
   "metadata": {
    "ExecuteTime": {
     "end_time": "2022-11-13T06:49:27.863961Z",
     "start_time": "2022-11-13T06:49:05.826444Z"
    }
   },
   "outputs": [],
   "source": [
    "topic_table = make_topictable_per_doc(lda_model, bow_corpus)"
   ]
  },
  {
   "cell_type": "code",
   "execution_count": 44,
   "metadata": {
    "ExecuteTime": {
     "end_time": "2022-11-13T06:49:41.780488Z",
     "start_time": "2022-11-13T06:49:41.761367Z"
    }
   },
   "outputs": [
    {
     "data": {
      "text/plain": [
       "3.0    2348\n",
       "1.0    1721\n",
       "2.0    1576\n",
       "0.0    1488\n",
       "Name: 0, dtype: int64"
      ]
     },
     "execution_count": 44,
     "metadata": {},
     "output_type": "execute_result"
    }
   ],
   "source": [
    "topic_table[0].value_counts()"
   ]
  },
  {
   "cell_type": "code",
   "execution_count": 45,
   "metadata": {
    "ExecuteTime": {
     "end_time": "2022-11-13T06:51:17.409368Z",
     "start_time": "2022-11-13T06:51:17.384363Z"
    }
   },
   "outputs": [],
   "source": [
    "df['topic_category'] = topic_table[0]"
   ]
  },
  {
   "cell_type": "code",
   "execution_count": 46,
   "metadata": {
    "ExecuteTime": {
     "end_time": "2022-11-13T06:51:25.736012Z",
     "start_time": "2022-11-13T06:51:25.707915Z"
    }
   },
   "outputs": [
    {
     "data": {
      "text/plain": [
       "False"
      ]
     },
     "execution_count": 46,
     "metadata": {},
     "output_type": "execute_result"
    }
   ],
   "source": [
    "df['topic_category'].isnull().any()"
   ]
  },
  {
   "cell_type": "markdown",
   "metadata": {},
   "source": [
    "그래프 만들기"
   ]
  },
  {
   "cell_type": "code",
   "execution_count": null,
   "metadata": {},
   "outputs": [],
   "source": []
  },
  {
   "cell_type": "code",
   "execution_count": 51,
   "metadata": {
    "ExecuteTime": {
     "end_time": "2022-11-13T06:53:21.886402Z",
     "start_time": "2022-11-13T06:53:21.837710Z"
    }
   },
   "outputs": [],
   "source": [
    "edge_list_topic0 = df[df['topic_category'] == 0].id.to_list()\n",
    "edge_list_topic1 = df[df['topic_category'] == 1].id.to_list()\n",
    "edge_list_topic2 = df[df['topic_category'] == 2].id.to_list()\n",
    "edge_list_topic3 = df[df['topic_category'] == 3].id.to_list()"
   ]
  },
  {
   "cell_type": "code",
   "execution_count": 52,
   "metadata": {
    "ExecuteTime": {
     "end_time": "2022-11-13T06:53:58.707329Z",
     "start_time": "2022-11-13T06:53:58.046493Z"
    }
   },
   "outputs": [],
   "source": [
    "from itertools import combinations\n",
    "\n",
    "edge_list_topic0 = list(combinations(edge_list_topic0, 2))\n",
    "edge_list_topic1 = list(combinations(edge_list_topic1, 2))\n",
    "edge_list_topic2 = list(combinations(edge_list_topic2, 2))\n",
    "edge_list_topic3 = list(combinations(edge_list_topic3, 2))\n"
   ]
  },
  {
   "cell_type": "code",
   "execution_count": 54,
   "metadata": {
    "ExecuteTime": {
     "end_time": "2022-11-13T06:54:20.343598Z",
     "start_time": "2022-11-13T06:54:18.546688Z"
    }
   },
   "outputs": [],
   "source": [
    "import networkx as nx\n"
   ]
  },
  {
   "cell_type": "code",
   "execution_count": 55,
   "metadata": {
    "ExecuteTime": {
     "end_time": "2022-11-13T06:54:28.720069Z",
     "start_time": "2022-11-13T06:54:20.346601Z"
    }
   },
   "outputs": [],
   "source": [
    "#build the graph\n",
    "G = nx.Graph()\n",
    "G.add_edges_from(edge_list_topic0)\n",
    "G.add_edges_from(edge_list_topic1)\n",
    "G.add_edges_from(edge_list_topic2)\n",
    "G.add_edges_from(edge_list_topic3)"
   ]
  },
  {
   "cell_type": "code",
   "execution_count": 57,
   "metadata": {
    "ExecuteTime": {
     "end_time": "2022-11-13T06:54:38.729087Z",
     "start_time": "2022-11-13T06:54:38.705280Z"
    }
   },
   "outputs": [],
   "source": [
    "G.add_nodes_from(df.id.tolist())"
   ]
  },
  {
   "cell_type": "code",
   "execution_count": 58,
   "metadata": {
    "ExecuteTime": {
     "end_time": "2022-11-13T06:54:42.703776Z",
     "start_time": "2022-11-13T06:54:42.679903Z"
    }
   },
   "outputs": [],
   "source": [
    "node_list = list(df.id)"
   ]
  },
  {
   "cell_type": "code",
   "execution_count": 59,
   "metadata": {
    "ExecuteTime": {
     "end_time": "2022-11-13T06:54:46.205198Z",
     "start_time": "2022-11-13T06:54:46.138440Z"
    }
   },
   "outputs": [
    {
     "name": "stdout",
     "output_type": "stream",
     "text": [
      "Name: \n",
      "Type: Graph\n",
      "Number of nodes: 7133\n",
      "Number of edges: 6582866\n",
      "Average degree: 1845.7496\n"
     ]
    }
   ],
   "source": [
    "print(nx.info(G))"
   ]
  },
  {
   "cell_type": "code",
   "execution_count": null,
   "metadata": {
    "ExecuteTime": {
     "end_time": "2022-11-13T06:55:08.031935Z",
     "start_time": "2022-11-13T06:55:06.819070Z"
    }
   },
   "outputs": [],
   "source": [
    "nx.set_node_attributes(G, df.set_index('id')['claim'], 'claim')\n",
    "nx.set_node_attributes(G, df.set_index('id')['published_date'], 'published_date')\n",
    "nx.set_node_attributes(G, df.set_index('id')['keybert_keywords'], 'keybert_keywords')\n",
    "nx.set_node_attributes(G, df.set_index('id')['ner_keywords'], 'ner_keywords')\n",
    "nx.set_node_attributes(G, df.set_index('id')['youtube0'], 'youtube0')\n",
    "nx.set_node_attributes(G, df.set_index('id')['youtube1'], 'youtube1')\n",
    "nx.set_node_attributes(G, df.set_index('id')['youtube2'], 'youtube2')\n",
    "nx.set_node_attributes(G, df.set_index('id')['youtube3'], 'youtube3')\n",
    "nx.set_node_attributes(G, df.set_index('id')['youtube4'], 'youtube4')\n",
    "nx.set_node_attributes(G, df.set_index('id')['youtube5'], 'youtube5')\n",
    "nx.set_node_attributes(G, df.set_index('id')['youtube6'], 'youtube6')\n",
    "nx.set_node_attributes(G, df.set_index('id')['youtube7'], 'youtube7')\n",
    "nx.set_node_attributes(G, df.set_index('id')['youtube8'], 'youtube8')\n",
    "nx.set_node_attributes(G, df.set_index('id')['youtube9'], 'youtube9')"
   ]
  },
  {
   "cell_type": "code",
   "execution_count": 61,
   "metadata": {
    "ExecuteTime": {
     "end_time": "2022-11-13T06:55:15.972749Z",
     "start_time": "2022-11-13T06:55:15.816872Z"
    }
   },
   "outputs": [],
   "source": [
    "nx.set_node_attributes(G, df.set_index('id')['label'], 'label')"
   ]
  },
  {
   "cell_type": "code",
   "execution_count": 62,
   "metadata": {
    "ExecuteTime": {
     "end_time": "2022-11-13T06:55:18.045375Z",
     "start_time": "2022-11-13T06:55:17.922311Z"
    }
   },
   "outputs": [],
   "source": [
    "nodelist = []\n",
    "\n",
    "for n, d in G.nodes(data = True):\n",
    "    node_data = dict()\n",
    "    node_data['node'] = n\n",
    "    node_data.update(d)\n",
    "    nodelist.append(node_data)\n",
    "\n",
    "node_from_G = pd.DataFrame(nodelist)"
   ]
  },
  {
   "cell_type": "code",
   "execution_count": 63,
   "metadata": {
    "ExecuteTime": {
     "end_time": "2022-11-13T06:55:20.419949Z",
     "start_time": "2022-11-13T06:55:20.394608Z"
    }
   },
   "outputs": [
    {
     "data": {
      "text/plain": [
       "(7133, 16)"
      ]
     },
     "execution_count": 63,
     "metadata": {},
     "output_type": "execute_result"
    }
   ],
   "source": [
    "node_from_G.shape"
   ]
  },
  {
   "cell_type": "markdown",
   "metadata": {},
   "source": [
    "### make feature"
   ]
  },
  {
   "cell_type": "code",
   "execution_count": 160,
   "metadata": {
    "ExecuteTime": {
     "end_time": "2022-11-13T07:18:18.815465Z",
     "start_time": "2022-11-13T07:18:18.808266Z"
    }
   },
   "outputs": [],
   "source": [
    "from gensim.test.utils import common_texts\n",
    "from gensim.models.doc2vec import Doc2Vec, TaggedDocument\n",
    "from gensim.models import Word2Vec\n"
   ]
  },
  {
   "cell_type": "code",
   "execution_count": 68,
   "metadata": {
    "ExecuteTime": {
     "end_time": "2022-11-13T06:56:34.693351Z",
     "start_time": "2022-11-13T06:56:34.670350Z"
    }
   },
   "outputs": [
    {
     "data": {
      "text/plain": [
       "Index(['node', 'claim', 'published_date', 'keybert_keywords', 'ner_keywords',\n",
       "       'youtube0', 'youtube1', 'youtube2', 'youtube3', 'youtube4', 'youtube5',\n",
       "       'youtube6', 'youtube7', 'youtube8', 'youtube9', 'label'],\n",
       "      dtype='object')"
      ]
     },
     "execution_count": 68,
     "metadata": {},
     "output_type": "execute_result"
    }
   ],
   "source": [
    "node_from_G.columns"
   ]
  },
  {
   "cell_type": "code",
   "execution_count": 69,
   "metadata": {
    "ExecuteTime": {
     "end_time": "2022-11-13T06:56:52.497755Z",
     "start_time": "2022-11-13T06:56:52.463520Z"
    }
   },
   "outputs": [
    {
     "data": {
      "text/plain": [
       "0.0    2641\n",
       "1.0    2636\n",
       "Name: label, dtype: int64"
      ]
     },
     "execution_count": 69,
     "metadata": {},
     "output_type": "execute_result"
    }
   ],
   "source": [
    "node_from_G.label.value_counts()"
   ]
  },
  {
   "cell_type": "markdown",
   "metadata": {},
   "source": [
    "1. claim (문장 임베딩)"
   ]
  },
  {
   "cell_type": "code",
   "execution_count": 288,
   "metadata": {
    "ExecuteTime": {
     "end_time": "2022-11-13T08:07:50.524256Z",
     "start_time": "2022-11-13T08:07:48.845389Z"
    }
   },
   "outputs": [],
   "source": [
    "processed_claim = node_from_G['claim'].map(preprocess)"
   ]
  },
  {
   "cell_type": "code",
   "execution_count": 290,
   "metadata": {
    "ExecuteTime": {
     "end_time": "2022-11-13T08:07:57.728397Z",
     "start_time": "2022-11-13T08:07:57.701204Z"
    }
   },
   "outputs": [
    {
     "data": {
      "text/plain": [
       "(7133,)"
      ]
     },
     "execution_count": 290,
     "metadata": {},
     "output_type": "execute_result"
    }
   ],
   "source": [
    "processed_claim.shape"
   ]
  },
  {
   "cell_type": "code",
   "execution_count": 289,
   "metadata": {
    "ExecuteTime": {
     "end_time": "2022-11-13T08:07:56.510905Z",
     "start_time": "2022-11-13T08:07:50.902565Z"
    }
   },
   "outputs": [],
   "source": [
    "documents = [TaggedDocument(doc, [i]) for i, doc in enumerate(processed_claim)]\n",
    "model_doc = Doc2Vec(documents, vector_size=100, window=2, min_count=1, workers=4)\n",
    "\n",
    "for i in range(len(df)):\n",
    "    if i == 0 :\n",
    "        claim_feature = pd.DataFrame(model_doc.infer_vector(processed_claim[i])).T\n",
    "    else :\n",
    "        claim_feature = pd.concat([claim_feature, pd.DataFrame(model_doc.infer_vector(processed_claim[i])).T])\n",
    "        "
   ]
  },
  {
   "cell_type": "code",
   "execution_count": 292,
   "metadata": {
    "ExecuteTime": {
     "end_time": "2022-11-13T08:08:18.605002Z",
     "start_time": "2022-11-13T08:08:18.579972Z"
    }
   },
   "outputs": [
    {
     "data": {
      "text/plain": [
       "(7133, 100)"
      ]
     },
     "execution_count": 292,
     "metadata": {},
     "output_type": "execute_result"
    }
   ],
   "source": [
    "claim_feature.shape"
   ]
  },
  {
   "cell_type": "markdown",
   "metadata": {},
   "source": [
    "2. youtube0 (문장 임베딩)"
   ]
  },
  {
   "cell_type": "code",
   "execution_count": 328,
   "metadata": {
    "ExecuteTime": {
     "end_time": "2022-11-13T08:46:09.778193Z",
     "start_time": "2022-11-13T08:45:23.894786Z"
    }
   },
   "outputs": [],
   "source": [
    "for i in range(10):\n",
    "    globals()[f\"processed_youtube{i}\".format(i)]  = node_from_G[f'youtube{i}'.format(i)].map(preprocess)\n"
   ]
  },
  {
   "cell_type": "code",
   "execution_count": 329,
   "metadata": {
    "ExecuteTime": {
     "end_time": "2022-11-13T08:46:12.169339Z",
     "start_time": "2022-11-13T08:46:12.146440Z"
    }
   },
   "outputs": [
    {
     "data": {
      "text/plain": [
       "(7133,)"
      ]
     },
     "execution_count": 329,
     "metadata": {},
     "output_type": "execute_result"
    }
   ],
   "source": [
    "processed_youtube0.shape"
   ]
  },
  {
   "cell_type": "code",
   "execution_count": 330,
   "metadata": {
    "ExecuteTime": {
     "end_time": "2022-11-13T08:46:39.920299Z",
     "start_time": "2022-11-13T08:46:14.943380Z"
    }
   },
   "outputs": [],
   "source": [
    "documents = [TaggedDocument(doc, [i]) for i, doc in enumerate(processed_youtube0)]\n",
    "model_doc = Doc2Vec(documents, vector_size=100, window=2, min_count=1, workers=4)\n",
    "\n",
    "for i in range(len(df)):\n",
    "    if i == 0 :\n",
    "        you_feature0 = pd.DataFrame(model_doc.infer_vector(processed_youtube0[i])).T\n",
    "    else :\n",
    "        you_feature0 = pd.concat([you_feature0, pd.DataFrame(model_doc.infer_vector(processed_youtube0[i])).T])\n",
    "        "
   ]
  },
  {
   "cell_type": "code",
   "execution_count": 315,
   "metadata": {
    "ExecuteTime": {
     "end_time": "2022-11-13T08:17:00.822083Z",
     "start_time": "2022-11-13T08:17:00.808082Z"
    }
   },
   "outputs": [
    {
     "data": {
      "text/plain": [
       "(7133, 100)"
      ]
     },
     "execution_count": 315,
     "metadata": {},
     "output_type": "execute_result"
    }
   ],
   "source": [
    "you_feature0.shape"
   ]
  },
  {
   "cell_type": "markdown",
   "metadata": {},
   "source": [
    "3. claim 길이, 감성, 주관성 값 feature 추가 "
   ]
  },
  {
   "cell_type": "markdown",
   "metadata": {},
   "source": [
    "- len"
   ]
  },
  {
   "cell_type": "code",
   "execution_count": 317,
   "metadata": {
    "ExecuteTime": {
     "end_time": "2022-11-13T08:19:49.857870Z",
     "start_time": "2022-11-13T08:19:49.833117Z"
    }
   },
   "outputs": [],
   "source": [
    "claims_lenth = node_from_G['claim'].map(len)"
   ]
  },
  {
   "cell_type": "code",
   "execution_count": 318,
   "metadata": {
    "ExecuteTime": {
     "end_time": "2022-11-13T08:19:50.423415Z",
     "start_time": "2022-11-13T08:19:50.413335Z"
    }
   },
   "outputs": [],
   "source": [
    "df_claim_feature2 = pd.DataFrame(claims_lenth)\n",
    "df_claim_feature2 = df_claim_feature2.rename(columns = {'body':'lenth'})"
   ]
  },
  {
   "cell_type": "markdown",
   "metadata": {},
   "source": [
    "- textblob"
   ]
  },
  {
   "cell_type": "code",
   "execution_count": 319,
   "metadata": {
    "ExecuteTime": {
     "end_time": "2022-11-13T08:19:51.285698Z",
     "start_time": "2022-11-13T08:19:51.267421Z"
    }
   },
   "outputs": [],
   "source": [
    "from textblob import TextBlob"
   ]
  },
  {
   "cell_type": "code",
   "execution_count": 320,
   "metadata": {
    "ExecuteTime": {
     "end_time": "2022-11-13T08:19:51.752843Z",
     "start_time": "2022-11-13T08:19:51.736808Z"
    }
   },
   "outputs": [
    {
     "data": {
      "text/plain": [
       "Sentiment(polarity=-0.25, subjectivity=0.4)"
      ]
     },
     "execution_count": 320,
     "metadata": {},
     "output_type": "execute_result"
    }
   ],
   "source": [
    "TextBlob(node_from_G['claim'][800]).sentiment"
   ]
  },
  {
   "cell_type": "code",
   "execution_count": 321,
   "metadata": {
    "ExecuteTime": {
     "end_time": "2022-11-13T08:20:04.704568Z",
     "start_time": "2022-11-13T08:19:52.840966Z"
    }
   },
   "outputs": [
    {
     "name": "stderr",
     "output_type": "stream",
     "text": [
      "100%|█████████████████████████████████████████████████████████████████████████████| 7133/7133 [00:11<00:00, 603.01it/s]\n"
     ]
    }
   ],
   "source": [
    "for i in tqdm(range(len(node_from_G['claim']))):\n",
    "    df_claim_feature2.loc[i, 'polarity'] = TextBlob(node_from_G['claim'][i]).sentiment[0]\n",
    "    df_claim_feature2.loc[i, 'subjectivity'] = TextBlob(node_from_G['claim'][i]).sentiment[1]"
   ]
  },
  {
   "cell_type": "code",
   "execution_count": 322,
   "metadata": {
    "ExecuteTime": {
     "end_time": "2022-11-13T08:20:05.855029Z",
     "start_time": "2022-11-13T08:20:05.810597Z"
    }
   },
   "outputs": [
    {
     "data": {
      "text/html": [
       "<div>\n",
       "<style scoped>\n",
       "    .dataframe tbody tr th:only-of-type {\n",
       "        vertical-align: middle;\n",
       "    }\n",
       "\n",
       "    .dataframe tbody tr th {\n",
       "        vertical-align: top;\n",
       "    }\n",
       "\n",
       "    .dataframe thead th {\n",
       "        text-align: right;\n",
       "    }\n",
       "</style>\n",
       "<table border=\"1\" class=\"dataframe\">\n",
       "  <thead>\n",
       "    <tr style=\"text-align: right;\">\n",
       "      <th></th>\n",
       "      <th>claim</th>\n",
       "      <th>polarity</th>\n",
       "      <th>subjectivity</th>\n",
       "    </tr>\n",
       "  </thead>\n",
       "  <tbody>\n",
       "    <tr>\n",
       "      <td>0</td>\n",
       "      <td>65</td>\n",
       "      <td>0.0</td>\n",
       "      <td>0.0</td>\n",
       "    </tr>\n",
       "    <tr>\n",
       "      <td>1</td>\n",
       "      <td>62</td>\n",
       "      <td>0.0</td>\n",
       "      <td>0.0</td>\n",
       "    </tr>\n",
       "    <tr>\n",
       "      <td>2</td>\n",
       "      <td>70</td>\n",
       "      <td>-0.1</td>\n",
       "      <td>0.4</td>\n",
       "    </tr>\n",
       "    <tr>\n",
       "      <td>3</td>\n",
       "      <td>80</td>\n",
       "      <td>0.0</td>\n",
       "      <td>0.0</td>\n",
       "    </tr>\n",
       "    <tr>\n",
       "      <td>4</td>\n",
       "      <td>61</td>\n",
       "      <td>-0.8</td>\n",
       "      <td>0.9</td>\n",
       "    </tr>\n",
       "  </tbody>\n",
       "</table>\n",
       "</div>"
      ],
      "text/plain": [
       "   claim  polarity  subjectivity\n",
       "0     65       0.0           0.0\n",
       "1     62       0.0           0.0\n",
       "2     70      -0.1           0.4\n",
       "3     80       0.0           0.0\n",
       "4     61      -0.8           0.9"
      ]
     },
     "execution_count": 322,
     "metadata": {},
     "output_type": "execute_result"
    }
   ],
   "source": [
    "df_claim_feature2.head()"
   ]
  },
  {
   "cell_type": "code",
   "execution_count": 353,
   "metadata": {
    "ExecuteTime": {
     "end_time": "2022-11-13T10:39:23.082099Z",
     "start_time": "2022-11-13T10:39:23.061195Z"
    }
   },
   "outputs": [],
   "source": [
    "df_claim_feature2['node'] = node_from_G.node"
   ]
  },
  {
   "cell_type": "code",
   "execution_count": 377,
   "metadata": {
    "ExecuteTime": {
     "end_time": "2022-11-13T10:45:07.176235Z",
     "start_time": "2022-11-13T10:45:07.149215Z"
    }
   },
   "outputs": [],
   "source": [
    "claim_feature['node'] = list(node_from_G.node)"
   ]
  },
  {
   "cell_type": "code",
   "execution_count": 374,
   "metadata": {
    "ExecuteTime": {
     "end_time": "2022-11-13T10:44:38.397757Z",
     "start_time": "2022-11-13T10:44:38.363963Z"
    }
   },
   "outputs": [],
   "source": [
    "you_feature0['node'] = list(node_from_G.node)"
   ]
  },
  {
   "cell_type": "code",
   "execution_count": 378,
   "metadata": {
    "ExecuteTime": {
     "end_time": "2022-11-13T10:45:09.550360Z",
     "start_time": "2022-11-13T10:45:09.414196Z"
    }
   },
   "outputs": [],
   "source": [
    "a = pd.merge(df_claim_feature2,claim_feature, how = 'inner', on = 'node')"
   ]
  },
  {
   "cell_type": "code",
   "execution_count": 379,
   "metadata": {
    "ExecuteTime": {
     "end_time": "2022-11-13T10:45:29.035273Z",
     "start_time": "2022-11-13T10:45:28.923023Z"
    }
   },
   "outputs": [],
   "source": [
    "b = pd.merge(a, you_feature0, how = 'inner', on = 'node')"
   ]
  },
  {
   "cell_type": "code",
   "execution_count": 381,
   "metadata": {
    "ExecuteTime": {
     "end_time": "2022-11-13T10:46:16.505607Z",
     "start_time": "2022-11-13T10:46:16.363953Z"
    }
   },
   "outputs": [
    {
     "data": {
      "text/html": [
       "<div>\n",
       "<style scoped>\n",
       "    .dataframe tbody tr th:only-of-type {\n",
       "        vertical-align: middle;\n",
       "    }\n",
       "\n",
       "    .dataframe tbody tr th {\n",
       "        vertical-align: top;\n",
       "    }\n",
       "\n",
       "    .dataframe thead th {\n",
       "        text-align: right;\n",
       "    }\n",
       "</style>\n",
       "<table border=\"1\" class=\"dataframe\">\n",
       "  <thead>\n",
       "    <tr style=\"text-align: right;\">\n",
       "      <th></th>\n",
       "      <th>claim</th>\n",
       "      <th>polarity</th>\n",
       "      <th>subjectivity</th>\n",
       "      <th>0_x</th>\n",
       "      <th>1_x</th>\n",
       "      <th>2_x</th>\n",
       "      <th>3_x</th>\n",
       "      <th>4_x</th>\n",
       "      <th>5_x</th>\n",
       "      <th>6_x</th>\n",
       "      <th>...</th>\n",
       "      <th>90_y</th>\n",
       "      <th>91_y</th>\n",
       "      <th>92_y</th>\n",
       "      <th>93_y</th>\n",
       "      <th>94_y</th>\n",
       "      <th>95_y</th>\n",
       "      <th>96_y</th>\n",
       "      <th>97_y</th>\n",
       "      <th>98_y</th>\n",
       "      <th>99_y</th>\n",
       "    </tr>\n",
       "    <tr>\n",
       "      <th>node</th>\n",
       "      <th></th>\n",
       "      <th></th>\n",
       "      <th></th>\n",
       "      <th></th>\n",
       "      <th></th>\n",
       "      <th></th>\n",
       "      <th></th>\n",
       "      <th></th>\n",
       "      <th></th>\n",
       "      <th></th>\n",
       "      <th></th>\n",
       "      <th></th>\n",
       "      <th></th>\n",
       "      <th></th>\n",
       "      <th></th>\n",
       "      <th></th>\n",
       "      <th></th>\n",
       "      <th></th>\n",
       "      <th></th>\n",
       "      <th></th>\n",
       "      <th></th>\n",
       "    </tr>\n",
       "  </thead>\n",
       "  <tbody>\n",
       "    <tr>\n",
       "      <td>2</td>\n",
       "      <td>65</td>\n",
       "      <td>0.0</td>\n",
       "      <td>0.0</td>\n",
       "      <td>0.004347</td>\n",
       "      <td>0.006527</td>\n",
       "      <td>-0.005255</td>\n",
       "      <td>0.004980</td>\n",
       "      <td>-0.000329</td>\n",
       "      <td>-0.007928</td>\n",
       "      <td>0.001403</td>\n",
       "      <td>...</td>\n",
       "      <td>0.025669</td>\n",
       "      <td>-0.046734</td>\n",
       "      <td>-0.042978</td>\n",
       "      <td>-0.056621</td>\n",
       "      <td>0.067007</td>\n",
       "      <td>-0.109707</td>\n",
       "      <td>0.009479</td>\n",
       "      <td>-0.016747</td>\n",
       "      <td>0.058125</td>\n",
       "      <td>0.034603</td>\n",
       "    </tr>\n",
       "    <tr>\n",
       "      <td>3</td>\n",
       "      <td>62</td>\n",
       "      <td>0.0</td>\n",
       "      <td>0.0</td>\n",
       "      <td>0.003562</td>\n",
       "      <td>0.011921</td>\n",
       "      <td>-0.005304</td>\n",
       "      <td>0.008870</td>\n",
       "      <td>-0.002444</td>\n",
       "      <td>-0.002014</td>\n",
       "      <td>0.008863</td>\n",
       "      <td>...</td>\n",
       "      <td>0.048587</td>\n",
       "      <td>-0.085624</td>\n",
       "      <td>-0.077225</td>\n",
       "      <td>-0.098361</td>\n",
       "      <td>0.121312</td>\n",
       "      <td>-0.187347</td>\n",
       "      <td>0.026443</td>\n",
       "      <td>-0.044678</td>\n",
       "      <td>0.099377</td>\n",
       "      <td>0.063381</td>\n",
       "    </tr>\n",
       "    <tr>\n",
       "      <td>12</td>\n",
       "      <td>70</td>\n",
       "      <td>-0.1</td>\n",
       "      <td>0.4</td>\n",
       "      <td>0.008384</td>\n",
       "      <td>0.010987</td>\n",
       "      <td>-0.004320</td>\n",
       "      <td>0.007628</td>\n",
       "      <td>0.001655</td>\n",
       "      <td>-0.009427</td>\n",
       "      <td>0.012194</td>\n",
       "      <td>...</td>\n",
       "      <td>0.026460</td>\n",
       "      <td>-0.042766</td>\n",
       "      <td>-0.034709</td>\n",
       "      <td>-0.041442</td>\n",
       "      <td>0.049989</td>\n",
       "      <td>-0.092175</td>\n",
       "      <td>0.012842</td>\n",
       "      <td>-0.017332</td>\n",
       "      <td>0.052157</td>\n",
       "      <td>0.032330</td>\n",
       "    </tr>\n",
       "    <tr>\n",
       "      <td>15</td>\n",
       "      <td>80</td>\n",
       "      <td>0.0</td>\n",
       "      <td>0.0</td>\n",
       "      <td>0.003019</td>\n",
       "      <td>0.007246</td>\n",
       "      <td>-0.004502</td>\n",
       "      <td>0.013180</td>\n",
       "      <td>-0.003171</td>\n",
       "      <td>-0.015770</td>\n",
       "      <td>0.014981</td>\n",
       "      <td>...</td>\n",
       "      <td>0.004450</td>\n",
       "      <td>-0.024444</td>\n",
       "      <td>-0.022037</td>\n",
       "      <td>-0.013704</td>\n",
       "      <td>0.028149</td>\n",
       "      <td>-0.039714</td>\n",
       "      <td>0.001728</td>\n",
       "      <td>-0.013094</td>\n",
       "      <td>0.024016</td>\n",
       "      <td>0.012437</td>\n",
       "    </tr>\n",
       "    <tr>\n",
       "      <td>19</td>\n",
       "      <td>61</td>\n",
       "      <td>-0.8</td>\n",
       "      <td>0.9</td>\n",
       "      <td>-0.000194</td>\n",
       "      <td>0.008070</td>\n",
       "      <td>-0.000448</td>\n",
       "      <td>0.004562</td>\n",
       "      <td>0.003866</td>\n",
       "      <td>-0.004962</td>\n",
       "      <td>0.001487</td>\n",
       "      <td>...</td>\n",
       "      <td>0.015711</td>\n",
       "      <td>-0.022911</td>\n",
       "      <td>-0.020754</td>\n",
       "      <td>-0.019913</td>\n",
       "      <td>0.027065</td>\n",
       "      <td>-0.042241</td>\n",
       "      <td>0.008415</td>\n",
       "      <td>-0.008206</td>\n",
       "      <td>0.023729</td>\n",
       "      <td>0.011469</td>\n",
       "    </tr>\n",
       "  </tbody>\n",
       "</table>\n",
       "<p>5 rows × 203 columns</p>\n",
       "</div>"
      ],
      "text/plain": [
       "      claim  polarity  subjectivity       0_x       1_x       2_x       3_x  \\\n",
       "node                                                                          \n",
       "2        65       0.0           0.0  0.004347  0.006527 -0.005255  0.004980   \n",
       "3        62       0.0           0.0  0.003562  0.011921 -0.005304  0.008870   \n",
       "12       70      -0.1           0.4  0.008384  0.010987 -0.004320  0.007628   \n",
       "15       80       0.0           0.0  0.003019  0.007246 -0.004502  0.013180   \n",
       "19       61      -0.8           0.9 -0.000194  0.008070 -0.000448  0.004562   \n",
       "\n",
       "           4_x       5_x       6_x  ...      90_y      91_y      92_y  \\\n",
       "node                                ...                                 \n",
       "2    -0.000329 -0.007928  0.001403  ...  0.025669 -0.046734 -0.042978   \n",
       "3    -0.002444 -0.002014  0.008863  ...  0.048587 -0.085624 -0.077225   \n",
       "12    0.001655 -0.009427  0.012194  ...  0.026460 -0.042766 -0.034709   \n",
       "15   -0.003171 -0.015770  0.014981  ...  0.004450 -0.024444 -0.022037   \n",
       "19    0.003866 -0.004962  0.001487  ...  0.015711 -0.022911 -0.020754   \n",
       "\n",
       "          93_y      94_y      95_y      96_y      97_y      98_y      99_y  \n",
       "node                                                                        \n",
       "2    -0.056621  0.067007 -0.109707  0.009479 -0.016747  0.058125  0.034603  \n",
       "3    -0.098361  0.121312 -0.187347  0.026443 -0.044678  0.099377  0.063381  \n",
       "12   -0.041442  0.049989 -0.092175  0.012842 -0.017332  0.052157  0.032330  \n",
       "15   -0.013704  0.028149 -0.039714  0.001728 -0.013094  0.024016  0.012437  \n",
       "19   -0.019913  0.027065 -0.042241  0.008415 -0.008206  0.023729  0.011469  \n",
       "\n",
       "[5 rows x 203 columns]"
      ]
     },
     "execution_count": 381,
     "metadata": {},
     "output_type": "execute_result"
    }
   ],
   "source": [
    "node = b.set_index('node')\n",
    "node.head()"
   ]
  },
  {
   "cell_type": "code",
   "execution_count": 382,
   "metadata": {
    "ExecuteTime": {
     "end_time": "2022-11-13T10:48:40.501244Z",
     "start_time": "2022-11-13T10:47:59.170640Z"
    }
   },
   "outputs": [],
   "source": [
    "edge_list = nx.to_pandas_edgelist(G, nodelist=node_list)"
   ]
  },
  {
   "cell_type": "code",
   "execution_count": 383,
   "metadata": {
    "ExecuteTime": {
     "end_time": "2022-11-13T10:51:09.009016Z",
     "start_time": "2022-11-13T10:51:08.986434Z"
    }
   },
   "outputs": [
    {
     "data": {
      "text/plain": [
       "(6582866, 2)"
      ]
     },
     "execution_count": 383,
     "metadata": {},
     "output_type": "execute_result"
    }
   ],
   "source": [
    "edge_list.shape"
   ]
  },
  {
   "cell_type": "code",
   "execution_count": 384,
   "metadata": {
    "ExecuteTime": {
     "end_time": "2022-11-13T10:51:09.569365Z",
     "start_time": "2022-11-13T10:51:09.541076Z"
    }
   },
   "outputs": [
    {
     "data": {
      "text/html": [
       "<div>\n",
       "<style scoped>\n",
       "    .dataframe tbody tr th:only-of-type {\n",
       "        vertical-align: middle;\n",
       "    }\n",
       "\n",
       "    .dataframe tbody tr th {\n",
       "        vertical-align: top;\n",
       "    }\n",
       "\n",
       "    .dataframe thead th {\n",
       "        text-align: right;\n",
       "    }\n",
       "</style>\n",
       "<table border=\"1\" class=\"dataframe\">\n",
       "  <thead>\n",
       "    <tr style=\"text-align: right;\">\n",
       "      <th></th>\n",
       "      <th>source</th>\n",
       "      <th>target</th>\n",
       "    </tr>\n",
       "  </thead>\n",
       "  <tbody>\n",
       "    <tr>\n",
       "      <td>0</td>\n",
       "      <td>0</td>\n",
       "      <td>5</td>\n",
       "    </tr>\n",
       "    <tr>\n",
       "      <td>1</td>\n",
       "      <td>0</td>\n",
       "      <td>7</td>\n",
       "    </tr>\n",
       "    <tr>\n",
       "      <td>2</td>\n",
       "      <td>0</td>\n",
       "      <td>8</td>\n",
       "    </tr>\n",
       "    <tr>\n",
       "      <td>3</td>\n",
       "      <td>0</td>\n",
       "      <td>11</td>\n",
       "    </tr>\n",
       "    <tr>\n",
       "      <td>4</td>\n",
       "      <td>0</td>\n",
       "      <td>13</td>\n",
       "    </tr>\n",
       "  </tbody>\n",
       "</table>\n",
       "</div>"
      ],
      "text/plain": [
       "   source  target\n",
       "0       0       5\n",
       "1       0       7\n",
       "2       0       8\n",
       "3       0      11\n",
       "4       0      13"
      ]
     },
     "execution_count": 384,
     "metadata": {},
     "output_type": "execute_result"
    }
   ],
   "source": [
    "edge_list.head()"
   ]
  },
  {
   "cell_type": "markdown",
   "metadata": {},
   "source": [
    "---"
   ]
  },
  {
   "cell_type": "code",
   "execution_count": 385,
   "metadata": {
    "ExecuteTime": {
     "end_time": "2022-11-13T10:51:12.483120Z",
     "start_time": "2022-11-13T10:51:12.460571Z"
    }
   },
   "outputs": [],
   "source": [
    "from stellargraph import StellarGraph\n"
   ]
  },
  {
   "cell_type": "code",
   "execution_count": 386,
   "metadata": {
    "ExecuteTime": {
     "end_time": "2022-11-13T10:51:13.626297Z",
     "start_time": "2022-11-13T10:51:13.090802Z"
    }
   },
   "outputs": [],
   "source": [
    "graph_full = StellarGraph({\"node\":node}, {\"edge\":edge_list}, source_column = \"source\",\n",
    "                              target_column = \"target\")"
   ]
  },
  {
   "cell_type": "code",
   "execution_count": 387,
   "metadata": {
    "ExecuteTime": {
     "end_time": "2022-11-13T10:51:38.753550Z",
     "start_time": "2022-11-13T10:51:31.208421Z"
    }
   },
   "outputs": [
    {
     "name": "stdout",
     "output_type": "stream",
     "text": [
      "StellarGraph: Undirected multigraph\n",
      " Nodes: 7133, Edges: 6582866\n",
      "\n",
      " Node types:\n",
      "  node: [7133]\n",
      "    Features: float32 vector, length 203\n",
      "    Edge types: node-edge->node\n",
      "\n",
      " Edge types:\n",
      "    node-edge->node: [6582866]\n",
      "        Weights: all 1 (default)\n",
      "        Features: none\n"
     ]
    }
   ],
   "source": [
    "print(graph_full.info())\n"
   ]
  },
  {
   "cell_type": "code",
   "execution_count": 388,
   "metadata": {
    "ExecuteTime": {
     "end_time": "2022-11-13T10:51:52.316122Z",
     "start_time": "2022-11-13T10:51:52.271993Z"
    }
   },
   "outputs": [],
   "source": [
    "train_id = train.id.to_list()\n",
    "test_id = test.id.to_list()"
   ]
  },
  {
   "cell_type": "code",
   "execution_count": 389,
   "metadata": {
    "ExecuteTime": {
     "end_time": "2022-11-13T10:51:53.015344Z",
     "start_time": "2022-11-13T10:51:52.985688Z"
    }
   },
   "outputs": [
    {
     "data": {
      "text/plain": [
       "5277"
      ]
     },
     "execution_count": 389,
     "metadata": {},
     "output_type": "execute_result"
    }
   ],
   "source": [
    "test_id[0]"
   ]
  },
  {
   "cell_type": "code",
   "execution_count": 390,
   "metadata": {
    "ExecuteTime": {
     "end_time": "2022-11-13T10:51:53.770284Z",
     "start_time": "2022-11-13T10:51:53.739286Z"
    }
   },
   "outputs": [],
   "source": [
    "hold_out_nodes = test_id"
   ]
  },
  {
   "cell_type": "code",
   "execution_count": 391,
   "metadata": {
    "ExecuteTime": {
     "end_time": "2022-11-13T10:51:54.422928Z",
     "start_time": "2022-11-13T10:51:54.393931Z"
    }
   },
   "outputs": [],
   "source": [
    "labels_sampled = train[['id', 'label']]\n",
    "labels_sampled = labels_sampled.rename(columns = {'id':'node'})"
   ]
  },
  {
   "cell_type": "code",
   "execution_count": 392,
   "metadata": {
    "ExecuteTime": {
     "end_time": "2022-11-13T10:51:55.735604Z",
     "start_time": "2022-11-13T10:51:55.718600Z"
    }
   },
   "outputs": [],
   "source": [
    "labels_sampled = labels_sampled.set_index('node')"
   ]
  },
  {
   "cell_type": "markdown",
   "metadata": {},
   "source": [
    "서브그래프(과제의 train data 해당하는 노드)를 추출한다."
   ]
  },
  {
   "cell_type": "code",
   "execution_count": 393,
   "metadata": {
    "ExecuteTime": {
     "end_time": "2022-11-13T10:52:02.355570Z",
     "start_time": "2022-11-13T10:51:59.113052Z"
    }
   },
   "outputs": [],
   "source": [
    "graph_sampled = graph_full.subgraph(train_id)"
   ]
  },
  {
   "cell_type": "code",
   "execution_count": 394,
   "metadata": {
    "ExecuteTime": {
     "end_time": "2022-11-13T10:52:07.221310Z",
     "start_time": "2022-11-13T10:52:03.043472Z"
    }
   },
   "outputs": [
    {
     "name": "stdout",
     "output_type": "stream",
     "text": [
      "StellarGraph: Undirected multigraph\n",
      " Nodes: 5277, Edges: 4018567\n",
      "\n",
      " Node types:\n",
      "  node: [5277]\n",
      "    Features: float32 vector, length 203\n",
      "    Edge types: node-edge->node\n",
      "\n",
      " Edge types:\n",
      "    node-edge->node: [4018567]\n",
      "        Weights: all 1 (default)\n",
      "        Features: none\n"
     ]
    }
   ],
   "source": [
    "print(graph_sampled.info())"
   ]
  },
  {
   "cell_type": "code",
   "execution_count": 395,
   "metadata": {
    "ExecuteTime": {
     "end_time": "2022-11-13T10:52:08.402949Z",
     "start_time": "2022-11-13T10:52:08.377449Z"
    }
   },
   "outputs": [],
   "source": [
    "from sklearn import preprocessing, feature_extraction, model_selection\n"
   ]
  },
  {
   "cell_type": "code",
   "execution_count": 598,
   "metadata": {
    "ExecuteTime": {
     "end_time": "2022-11-13T11:35:43.696634Z",
     "start_time": "2022-11-13T11:35:43.440959Z"
    }
   },
   "outputs": [],
   "source": [
    "train_labels, test_labels = model_selection.train_test_split(\n",
    "    labels_sampled,\n",
    "    train_size= 0.4,\n",
    "    test_size=None,\n",
    "    stratify=labels_sampled,\n",
    "    random_state=42,\n",
    ")\n",
    "val_labels, test_labels = model_selection.train_test_split(\n",
    "    test_labels, train_size=0.2, test_size=None, stratify=test_labels, random_state=100,\n",
    ")"
   ]
  },
  {
   "cell_type": "code",
   "execution_count": 599,
   "metadata": {
    "ExecuteTime": {
     "end_time": "2022-11-13T11:35:44.287330Z",
     "start_time": "2022-11-13T11:35:44.266324Z"
    }
   },
   "outputs": [],
   "source": [
    "def encode_label(labels):\n",
    "    label_encoder = LabelEncoder()\n",
    "    labels = label_encoder.fit_transform(labels)\n",
    "    labels = to_categorical(labels)\n",
    "    return labels#, #label_encoder.classes_"
   ]
  },
  {
   "cell_type": "code",
   "execution_count": 600,
   "metadata": {
    "ExecuteTime": {
     "end_time": "2022-11-13T11:35:44.942126Z",
     "start_time": "2022-11-13T11:35:44.926676Z"
    }
   },
   "outputs": [],
   "source": [
    "from sklearn.preprocessing import LabelEncoder\n",
    "from keras.utils import to_categorical\n"
   ]
  },
  {
   "cell_type": "code",
   "execution_count": 601,
   "metadata": {
    "ExecuteTime": {
     "end_time": "2022-11-13T11:35:45.598752Z",
     "start_time": "2022-11-13T11:35:45.576013Z"
    }
   },
   "outputs": [],
   "source": [
    "train_targets = encode_label(train_labels)"
   ]
  },
  {
   "cell_type": "code",
   "execution_count": 602,
   "metadata": {
    "ExecuteTime": {
     "end_time": "2022-11-13T11:35:46.145209Z",
     "start_time": "2022-11-13T11:35:46.126193Z"
    }
   },
   "outputs": [],
   "source": [
    "val_targets = encode_label(val_labels)\n",
    "test_targets = encode_label(test_labels)"
   ]
  },
  {
   "cell_type": "code",
   "execution_count": null,
   "metadata": {
    "ExecuteTime": {
     "end_time": "2022-11-13T11:35:47.718407Z",
     "start_time": "2022-11-13T11:35:46.557Z"
    }
   },
   "outputs": [],
   "source": [
    "## Creating the GraphSAGE model in Keras"
   ]
  },
  {
   "cell_type": "code",
   "execution_count": 611,
   "metadata": {
    "ExecuteTime": {
     "end_time": "2022-11-13T11:36:48.573794Z",
     "start_time": "2022-11-13T11:36:48.563638Z"
    }
   },
   "outputs": [],
   "source": [
    "batch_size = 100\n",
    "num_samples = [10, 10]"
   ]
  },
  {
   "cell_type": "code",
   "execution_count": 612,
   "metadata": {
    "ExecuteTime": {
     "end_time": "2022-11-13T11:36:49.525577Z",
     "start_time": "2022-11-13T11:36:49.508341Z"
    }
   },
   "outputs": [],
   "source": [
    "from stellargraph.mapper import GraphSAGENodeGenerator\n",
    "from stellargraph.layer import GraphSAGE\n",
    "from tensorflow.keras import layers, optimizers, losses, metrics, Model\n"
   ]
  },
  {
   "cell_type": "code",
   "execution_count": 613,
   "metadata": {
    "ExecuteTime": {
     "end_time": "2022-11-13T11:36:51.200905Z",
     "start_time": "2022-11-13T11:36:50.156038Z"
    }
   },
   "outputs": [
    {
     "data": {
      "text/plain": [
       "TensorShape([None, 2])"
      ]
     },
     "execution_count": 613,
     "metadata": {},
     "output_type": "execute_result"
    }
   ],
   "source": [
    "generator = GraphSAGENodeGenerator(graph_sampled, batch_size, num_samples)\n",
    "\n",
    "train_gen = generator.flow(train_labels.index, train_targets, shuffle=True)\n",
    "\n",
    "graphsage_model = GraphSAGE(\n",
    "    layer_sizes=[128, 128], generator=generator, bias=True, dropout=0.3,\n",
    ")\n",
    "\n",
    "x_inp, x_out = graphsage_model.in_out_tensors()\n",
    "prediction = layers.Dense(units=train_targets.shape[1], activation=\"softmax\")(x_out)\n",
    "\n",
    "prediction.shape"
   ]
  },
  {
   "cell_type": "code",
   "execution_count": 614,
   "metadata": {
    "ExecuteTime": {
     "end_time": "2022-11-13T11:36:52.339874Z",
     "start_time": "2022-11-13T11:36:52.320176Z"
    }
   },
   "outputs": [],
   "source": [
    "## 모델 학습"
   ]
  },
  {
   "cell_type": "code",
   "execution_count": 615,
   "metadata": {
    "ExecuteTime": {
     "end_time": "2022-11-13T11:36:54.402719Z",
     "start_time": "2022-11-13T11:36:54.317221Z"
    }
   },
   "outputs": [],
   "source": [
    "model = Model(inputs=x_inp, outputs=prediction)\n",
    "model.compile(\n",
    "    optimizer=optimizers.Adam(lr=0.001),\n",
    "    loss=losses.categorical_crossentropy,\n",
    "    metrics=[\"acc\"],\n",
    ")"
   ]
  },
  {
   "cell_type": "code",
   "execution_count": 616,
   "metadata": {
    "ExecuteTime": {
     "end_time": "2022-11-13T11:36:54.949755Z",
     "start_time": "2022-11-13T11:36:54.930436Z"
    }
   },
   "outputs": [],
   "source": [
    "val_gen = generator.flow(val_labels.index, val_targets)"
   ]
  },
  {
   "cell_type": "code",
   "execution_count": 617,
   "metadata": {
    "ExecuteTime": {
     "end_time": "2022-11-13T11:37:29.815814Z",
     "start_time": "2022-11-13T11:36:55.623894Z"
    }
   },
   "outputs": [
    {
     "name": "stdout",
     "output_type": "stream",
     "text": [
      "Epoch 1/5\n",
      "22/22 [==============================] - ETA: 0s - loss: 0.7095 - acc: 0.480 - ETA: 1s - loss: 0.6968 - acc: 0.530 - ETA: 2s - loss: 0.6990 - acc: 0.506 - ETA: 2s - loss: 0.6972 - acc: 0.512 - ETA: 3s - loss: 0.6963 - acc: 0.516 - ETA: 3s - loss: 0.6977 - acc: 0.498 - ETA: 3s - loss: 0.6968 - acc: 0.498 - ETA: 3s - loss: 0.6963 - acc: 0.496 - ETA: 2s - loss: 0.6970 - acc: 0.486 - ETA: 2s - loss: 0.6962 - acc: 0.496 - ETA: 2s - loss: 0.6963 - acc: 0.495 - ETA: 2s - loss: 0.6962 - acc: 0.490 - ETA: 2s - loss: 0.6950 - acc: 0.503 - ETA: 1s - loss: 0.6959 - acc: 0.497 - ETA: 1s - loss: 0.6956 - acc: 0.501 - ETA: 1s - loss: 0.6952 - acc: 0.501 - ETA: 1s - loss: 0.6957 - acc: 0.496 - ETA: 0s - loss: 0.6958 - acc: 0.494 - ETA: 0s - loss: 0.6957 - acc: 0.492 - ETA: 0s - loss: 0.6956 - acc: 0.491 - ETA: 0s - loss: 0.6953 - acc: 0.496 - 7s 296ms/step - loss: 0.6951 - acc: 0.4967 - val_loss: 0.6933 - val_acc: 0.4992\n",
      "Epoch 2/5\n",
      "22/22 [==============================] - ETA: 0s - loss: 0.6900 - acc: 0.550 - ETA: 2s - loss: 0.6935 - acc: 0.490 - ETA: 2s - loss: 0.6951 - acc: 0.480 - ETA: 2s - loss: 0.6939 - acc: 0.492 - ETA: 3s - loss: 0.6938 - acc: 0.498 - ETA: 2s - loss: 0.6931 - acc: 0.500 - ETA: 2s - loss: 0.6930 - acc: 0.504 - ETA: 2s - loss: 0.6934 - acc: 0.500 - ETA: 2s - loss: 0.6938 - acc: 0.501 - ETA: 2s - loss: 0.6936 - acc: 0.508 - ETA: 2s - loss: 0.6937 - acc: 0.508 - ETA: 2s - loss: 0.6934 - acc: 0.515 - ETA: 1s - loss: 0.6933 - acc: 0.518 - ETA: 1s - loss: 0.6923 - acc: 0.525 - ETA: 1s - loss: 0.6932 - acc: 0.519 - ETA: 1s - loss: 0.6929 - acc: 0.521 - ETA: 1s - loss: 0.6931 - acc: 0.519 - ETA: 0s - loss: 0.6931 - acc: 0.521 - ETA: 0s - loss: 0.6927 - acc: 0.522 - ETA: 0s - loss: 0.6927 - acc: 0.522 - ETA: 0s - loss: 0.6927 - acc: 0.522 - 6s 280ms/step - loss: 0.6928 - acc: 0.5218 - val_loss: 0.6951 - val_acc: 0.5008\n",
      "Epoch 3/5\n",
      "22/22 [==============================] - ETA: 0s - loss: 0.6843 - acc: 0.560 - ETA: 1s - loss: 0.6870 - acc: 0.530 - ETA: 2s - loss: 0.6866 - acc: 0.516 - ETA: 2s - loss: 0.6832 - acc: 0.540 - ETA: 2s - loss: 0.6872 - acc: 0.524 - ETA: 2s - loss: 0.6938 - acc: 0.510 - ETA: 2s - loss: 0.6948 - acc: 0.511 - ETA: 2s - loss: 0.6962 - acc: 0.506 - ETA: 2s - loss: 0.6974 - acc: 0.496 - ETA: 2s - loss: 0.7002 - acc: 0.480 - ETA: 2s - loss: 0.6998 - acc: 0.484 - ETA: 1s - loss: 0.7001 - acc: 0.485 - ETA: 1s - loss: 0.6991 - acc: 0.494 - ETA: 1s - loss: 0.6985 - acc: 0.496 - ETA: 1s - loss: 0.6978 - acc: 0.497 - ETA: 1s - loss: 0.6980 - acc: 0.493 - ETA: 1s - loss: 0.6985 - acc: 0.489 - ETA: 0s - loss: 0.6982 - acc: 0.491 - ETA: 0s - loss: 0.6975 - acc: 0.495 - ETA: 0s - loss: 0.6973 - acc: 0.498 - ETA: 0s - loss: 0.6975 - acc: 0.498 - 6s 258ms/step - loss: 0.6975 - acc: 0.4986 - val_loss: 0.6959 - val_acc: 0.4882\n",
      "Epoch 4/5\n",
      "22/22 [==============================] - ETA: 0s - loss: 0.6978 - acc: 0.490 - ETA: 2s - loss: 0.6964 - acc: 0.495 - ETA: 3s - loss: 0.6971 - acc: 0.496 - ETA: 3s - loss: 0.6960 - acc: 0.495 - ETA: 3s - loss: 0.6957 - acc: 0.490 - ETA: 3s - loss: 0.6946 - acc: 0.510 - ETA: 3s - loss: 0.6953 - acc: 0.502 - ETA: 3s - loss: 0.6953 - acc: 0.500 - ETA: 2s - loss: 0.6942 - acc: 0.500 - ETA: 2s - loss: 0.6932 - acc: 0.506 - ETA: 2s - loss: 0.6936 - acc: 0.504 - ETA: 2s - loss: 0.6940 - acc: 0.504 - ETA: 1s - loss: 0.6943 - acc: 0.503 - ETA: 1s - loss: 0.6936 - acc: 0.502 - ETA: 1s - loss: 0.6933 - acc: 0.504 - ETA: 1s - loss: 0.6940 - acc: 0.501 - ETA: 1s - loss: 0.6948 - acc: 0.495 - ETA: 0s - loss: 0.6944 - acc: 0.497 - ETA: 0s - loss: 0.6951 - acc: 0.493 - ETA: 0s - loss: 0.6949 - acc: 0.495 - ETA: 0s - loss: 0.6950 - acc: 0.493 - 6s 267ms/step - loss: 0.6950 - acc: 0.4934 - val_loss: 0.6943 - val_acc: 0.4834\n",
      "Epoch 5/5\n",
      "22/22 [==============================] - ETA: 0s - loss: 0.6887 - acc: 0.540 - ETA: 1s - loss: 0.6918 - acc: 0.510 - ETA: 2s - loss: 0.6929 - acc: 0.503 - ETA: 2s - loss: 0.6930 - acc: 0.515 - ETA: 2s - loss: 0.6951 - acc: 0.508 - ETA: 3s - loss: 0.6959 - acc: 0.503 - ETA: 2s - loss: 0.6960 - acc: 0.500 - ETA: 2s - loss: 0.6944 - acc: 0.507 - ETA: 2s - loss: 0.6943 - acc: 0.506 - ETA: 2s - loss: 0.6956 - acc: 0.493 - ETA: 2s - loss: 0.6952 - acc: 0.496 - ETA: 2s - loss: 0.6956 - acc: 0.494 - ETA: 2s - loss: 0.6957 - acc: 0.493 - ETA: 1s - loss: 0.6955 - acc: 0.495 - ETA: 1s - loss: 0.6954 - acc: 0.496 - ETA: 1s - loss: 0.6952 - acc: 0.501 - ETA: 1s - loss: 0.6950 - acc: 0.503 - ETA: 0s - loss: 0.6951 - acc: 0.502 - ETA: 0s - loss: 0.6949 - acc: 0.500 - ETA: 0s - loss: 0.6952 - acc: 0.497 - ETA: 0s - loss: 0.6951 - acc: 0.496 - 7s 296ms/step - loss: 0.6951 - acc: 0.4962 - val_loss: 0.6933 - val_acc: 0.5403\n"
     ]
    }
   ],
   "source": [
    "history = model.fit(\n",
    "    train_gen, epochs=5, validation_data=val_gen, verbose=1, shuffle=False\n",
    ")"
   ]
  },
  {
   "cell_type": "code",
   "execution_count": 618,
   "metadata": {
    "ExecuteTime": {
     "end_time": "2022-11-13T11:37:31.273607Z",
     "start_time": "2022-11-13T11:37:31.249007Z"
    }
   },
   "outputs": [],
   "source": [
    "test_gen = generator.flow(test_labels.index, test_targets)"
   ]
  },
  {
   "cell_type": "code",
   "execution_count": 619,
   "metadata": {
    "ExecuteTime": {
     "end_time": "2022-11-13T11:37:31.853665Z",
     "start_time": "2022-11-13T11:37:31.824366Z"
    }
   },
   "outputs": [
    {
     "data": {
      "text/plain": [
       "1856"
      ]
     },
     "execution_count": 619,
     "metadata": {},
     "output_type": "execute_result"
    }
   ],
   "source": [
    "len(hold_out_nodes)\n"
   ]
  },
  {
   "cell_type": "code",
   "execution_count": 620,
   "metadata": {
    "ExecuteTime": {
     "end_time": "2022-11-13T11:37:38.121128Z",
     "start_time": "2022-11-13T11:37:32.494113Z"
    }
   },
   "outputs": [],
   "source": [
    "## 제출할 데이터 만들기\n",
    "\n",
    "generator = GraphSAGENodeGenerator(graph_full, batch_size, num_samples)\n",
    "\n",
    "len(hold_out_nodes)\n",
    "\n",
    "hold_out_targets = np.zeros((1856,2))\n",
    "\n",
    "hold_out_gen = generator.flow(hold_out_nodes, hold_out_targets)\n",
    "\n",
    "hold_out_predictions = model.predict(hold_out_gen)\n",
    "\n",
    "submit = pd.DataFrame(hold_out_predictions)\n",
    "\n",
    "submit.loc[submit[1]>=0.5, 'result'] = 1\n",
    "\n",
    "submit.loc[submit[1]<0.5, 'result'] = 0"
   ]
  },
  {
   "cell_type": "code",
   "execution_count": 621,
   "metadata": {
    "ExecuteTime": {
     "end_time": "2022-11-13T11:37:40.837106Z",
     "start_time": "2022-11-13T11:37:40.793010Z"
    }
   },
   "outputs": [],
   "source": [
    "test_node_id = test[['id']].reset_index(drop = True)\n",
    "\n",
    "result = pd.concat([test_node_id,submit], axis = 1)\n",
    "\n",
    "submit_1 = result[['id','result']].rename(columns = {'node_id':0, 'result':1})\n",
    "\n",
    "# submit_1.to_csv('.csv',index=False, sep = '\\t')"
   ]
  },
  {
   "cell_type": "code",
   "execution_count": 622,
   "metadata": {
    "ExecuteTime": {
     "end_time": "2022-11-13T11:37:41.426006Z",
     "start_time": "2022-11-13T11:37:41.404885Z"
    }
   },
   "outputs": [],
   "source": [
    "submit_1['id'] = submit_1['id'] - 5277"
   ]
  },
  {
   "cell_type": "code",
   "execution_count": 625,
   "metadata": {
    "ExecuteTime": {
     "end_time": "2022-11-13T11:38:02.237712Z",
     "start_time": "2022-11-13T11:38:02.199477Z"
    }
   },
   "outputs": [],
   "source": [
    "submit_1.to_csv('submit_1113.csv')"
   ]
  },
  {
   "cell_type": "code",
   "execution_count": 624,
   "metadata": {
    "ExecuteTime": {
     "end_time": "2022-11-13T11:37:44.006471Z",
     "start_time": "2022-11-13T11:37:43.968325Z"
    }
   },
   "outputs": [
    {
     "data": {
      "text/plain": [
       "0.0    1465\n",
       "1.0     391\n",
       "Name: 1, dtype: int64"
      ]
     },
     "execution_count": 624,
     "metadata": {},
     "output_type": "execute_result"
    }
   ],
   "source": [
    "submit_1[1].value_counts()"
   ]
  },
  {
   "cell_type": "code",
   "execution_count": null,
   "metadata": {},
   "outputs": [],
   "source": []
  }
 ],
 "metadata": {
  "kernelspec": {
   "display_name": "Python 3",
   "language": "python",
   "name": "python3"
  },
  "language_info": {
   "codemirror_mode": {
    "name": "ipython",
    "version": 3
   },
   "file_extension": ".py",
   "mimetype": "text/x-python",
   "name": "python",
   "nbconvert_exporter": "python",
   "pygments_lexer": "ipython3",
   "version": "3.7.4"
  },
  "varInspector": {
   "cols": {
    "lenName": 16,
    "lenType": 16,
    "lenVar": 40
   },
   "kernels_config": {
    "python": {
     "delete_cmd_postfix": "",
     "delete_cmd_prefix": "del ",
     "library": "var_list.py",
     "varRefreshCmd": "print(var_dic_list())"
    },
    "r": {
     "delete_cmd_postfix": ") ",
     "delete_cmd_prefix": "rm(",
     "library": "var_list.r",
     "varRefreshCmd": "cat(var_dic_list()) "
    }
   },
   "types_to_exclude": [
    "module",
    "function",
    "builtin_function_or_method",
    "instance",
    "_Feature"
   ],
   "window_display": false
  }
 },
 "nbformat": 4,
 "nbformat_minor": 2
}
